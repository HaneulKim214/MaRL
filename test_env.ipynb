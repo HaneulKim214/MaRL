{
 "cells": [
  {
   "cell_type": "code",
   "execution_count": null,
   "id": "characteristic-million",
   "metadata": {},
   "outputs": [],
   "source": [
    "# from ray.rllib.env.multi_agent_env import MultiAgentEnv\n",
    "import numpy as np\n",
    "\n",
    "class Colonize:\n",
    "    def __init__(self, countries):\n",
    "        # order them in ascending order w.r.t. land_size\n",
    "        self.countries = countries\n",
    "        land_sizes = [country.land_size for country in self.countries]\n",
    "\n",
    "\n",
    "\n",
    "class Country:\n",
    "    def __init__(self, name, land):\n",
    "        self.name = name\n",
    "        self.land_size = land # 국력\n",
    "        self.ally = []\n",
    "        assert len(self.ally) <= 1, \"You cannot have truth with all Countries\"\n",
    "\n",
    "\n",
    "\n",
    "\n",
    "Korea = Country(\"Korea\", 20)\n",
    "Canada = Country(\"Canada\", 15)\n",
    "China = Country(\"China\", 17)"
   ]
  },
  {
   "cell_type": "code",
   "execution_count": null,
   "id": "compressed-thousand",
   "metadata": {},
   "outputs": [],
   "source": [
    "countries = [Korea, Canada, China]"
   ]
  },
  {
   "cell_type": "code",
   "execution_count": null,
   "id": "hourly-vaccine",
   "metadata": {},
   "outputs": [],
   "source": [
    "col = Colonize(countries)"
   ]
  },
  {
   "cell_type": "code",
   "execution_count": null,
   "id": "arranged-present",
   "metadata": {},
   "outputs": [],
   "source": [
    "strongest_country_p = [\"no_ally\", \"weakest\", \"2nd_strongest\"]\n",
    "sec_strongest_country_p = [\"no_ally\", \"strongest\", \"weakest\"]\n",
    "weakest_country_p = [\"no_ally\", \"strongest\", \"2nd_strongest\"]\n",
    "\n",
    "lst = [strongest_country_p,\n",
    "       sec_strongest_country_p,\n",
    "       weakest_country_p]"
   ]
  },
  {
   "cell_type": "code",
   "execution_count": null,
   "id": "spatial-express",
   "metadata": {},
   "outputs": [],
   "source": [
    "import itertools"
   ]
  },
  {
   "cell_type": "code",
   "execution_count": null,
   "id": "difficult-research",
   "metadata": {},
   "outputs": [],
   "source": [
    "lst = [\"a\", \"b\", \"c\"]"
   ]
  },
  {
   "cell_type": "code",
   "execution_count": null,
   "id": "controversial-contrary",
   "metadata": {},
   "outputs": [],
   "source": [
    "import random\n",
    "random.choice(lst)"
   ]
  },
  {
   "cell_type": "code",
   "execution_count": null,
   "id": "photographic-spotlight",
   "metadata": {},
   "outputs": [],
   "source": [
    "lst[0+1:]"
   ]
  },
  {
   "cell_type": "code",
   "execution_count": null,
   "id": "balanced-threshold",
   "metadata": {},
   "outputs": [],
   "source": [
    "lst[1-1:1] + lst[1+1:]"
   ]
  },
  {
   "cell_type": "code",
   "execution_count": null,
   "id": "defined-people",
   "metadata": {},
   "outputs": [],
   "source": [
    "lst"
   ]
  }
 ],
 "metadata": {
  "kernelspec": {
   "display_name": "Python 3",
   "language": "python",
   "name": "python3"
  },
  "language_info": {
   "codemirror_mode": {
    "name": "ipython",
    "version": 3
   },
   "file_extension": ".py",
   "mimetype": "text/x-python",
   "name": "python",
   "nbconvert_exporter": "python",
   "pygments_lexer": "ipython3",
   "version": "3.8.10"
  },
  "toc": {
   "base_numbering": 1,
   "nav_menu": {},
   "number_sections": true,
   "sideBar": true,
   "skip_h1_title": false,
   "title_cell": "Table of Contents",
   "title_sidebar": "Contents",
   "toc_cell": false,
   "toc_position": {},
   "toc_section_display": true,
   "toc_window_display": false
  }
 },
 "nbformat": 4,
 "nbformat_minor": 5
}
