{
 "cells": [
  {
   "cell_type": "code",
   "execution_count": null,
   "id": "forward-society",
   "metadata": {},
   "outputs": [],
   "source": [
    "import plotly.graph_objects as go\n",
    "import itertools\n",
    "\n",
    "from env.multi_agent_env import Colonize\n",
    "from agents.countries import Country"
   ]
  },
  {
   "cell_type": "code",
   "execution_count": null,
   "id": "governmental-scheme",
   "metadata": {},
   "outputs": [],
   "source": [
    "Korea = Country(\"Korea\", 30)\n",
    "Canada = Country(\"Canada\", 25)\n",
    "China = Country(\"China\", 20)\n",
    "\n",
    "countries = [Korea, Canada, China]\n",
    "\n",
    "n_rounds = 20000\n",
    "mil_p = 0.1\n",
    "\n",
    "strongest_country_p = [\"no_ally\", \"weakest\", \"2nd_strongest\"]\n",
    "sec_strongest_country_p = [\"no_ally\", \"strongest\", \"weakest\"]\n",
    "weakest_country_p = [\"no_ally\", \"strongest\", \"2nd_strongest\"]\n",
    "\n",
    "lst = [strongest_country_p,\n",
    "       sec_strongest_country_p,\n",
    "       weakest_country_p]\n",
    "\n",
    "ally_policy_combs = list(itertools.product(*lst))\n",
    "\n",
    "# Test for \"no ally\" ally policy for all countries\n",
    "apc = ally_policy_combs[0]\n",
    "colonize = Colonize(countries, mil_p, apc)"
   ]
  },
  {
   "cell_type": "markdown",
   "id": "secure-sunday",
   "metadata": {},
   "source": [
    "#### Plot"
   ]
  },
  {
   "cell_type": "code",
   "execution_count": null,
   "id": "patent-radio",
   "metadata": {},
   "outputs": [],
   "source": [
    "def plot_land_size(land_size_dict, n_step):\n",
    "    \"\"\"\n",
    "    plot showing dynamic changes in land_size at every step\n",
    "    \n",
    "    Parameters\n",
    "    ----------\n",
    "    land_size_dict : dict\n",
    "                     land_size of each country at each step\n",
    "    n_step : int\n",
    "             number of rounds\n",
    "    \n",
    "    \n",
    "    Return\n",
    "    ------\n",
    "    fig : fig\n",
    "          plotly figure object containing necessary info\n",
    "    \"\"\"\n",
    "    fig = go.Figure()\n",
    "    \n",
    "    for cname, land_size_list in land_size_dict.items():\n",
    "        fig.add_trace(\n",
    "            go.Scatter(\n",
    "                name = cname,\n",
    "                x = list(range(1, n_step+1)),\n",
    "                y = land_size_list\n",
    "            )\n",
    "        )\n",
    "    \n",
    "    fig.update_layout(\n",
    "        title = \"3나라의 국력 변화\",\n",
    "        xaxis_title = \"# of steps\",\n",
    "        yaxis_title = \"land_size\"\n",
    "    )\n",
    "    \n",
    "    return fig"
   ]
  },
  {
   "cell_type": "code",
   "execution_count": null,
   "id": "second-shark",
   "metadata": {},
   "outputs": [],
   "source": [
    "land_size_dict = {\"Korea\":[], \"Canada\":[], \"China\":[]}\n",
    "\n",
    "for i in range(100):\n",
    "    try:\n",
    "        colonize.step()\n",
    "    except ZeroDivisionError:\n",
    "        break\n",
    "    for country in colonize.countries:\n",
    "        land_size_dict[country.name].append(country.land_size)"
   ]
  },
  {
   "cell_type": "code",
   "execution_count": null,
   "id": "wrapped-medicaid",
   "metadata": {},
   "outputs": [],
   "source": [
    "fig = plot_land_size(land_size_dict, colonize.n_steps)"
   ]
  },
  {
   "cell_type": "code",
   "execution_count": null,
   "id": "broad-wrestling",
   "metadata": {},
   "outputs": [],
   "source": [
    "fig.write_html(\"Colonize_100step_landsize_plot.html\")\n",
    "fig.show()"
   ]
  },
  {
   "cell_type": "code",
   "execution_count": 12,
   "id": "ignored-vocabulary",
   "metadata": {},
   "outputs": [],
   "source": [
    "# test\n",
    "import numpy as np\n",
    "\n",
    "betting_area = np.array([[0, 0, 2], [0,0,2.5], [0,3,0]], dtype=object)"
   ]
  },
  {
   "cell_type": "code",
   "execution_count": 15,
   "id": "native-basic",
   "metadata": {},
   "outputs": [
    {
     "data": {
      "text/plain": [
       "array([[(2, 2), 0, 2],\n",
       "       [0, 0, 2.5],\n",
       "       [0, 3, 0]], dtype=object)"
      ]
     },
     "execution_count": 15,
     "metadata": {},
     "output_type": "execute_result"
    }
   ],
   "source": [
    "betting_area"
   ]
  },
  {
   "cell_type": "code",
   "execution_count": 14,
   "id": "religious-consistency",
   "metadata": {},
   "outputs": [],
   "source": [
    "betting_area[0][0] = (2,2)"
   ]
  },
  {
   "cell_type": "code",
   "execution_count": null,
   "id": "wrong-malawi",
   "metadata": {},
   "outputs": [],
   "source": []
  }
 ],
 "metadata": {
  "kernelspec": {
   "display_name": "Python 3",
   "language": "python",
   "name": "python3"
  },
  "language_info": {
   "codemirror_mode": {
    "name": "ipython",
    "version": 3
   },
   "file_extension": ".py",
   "mimetype": "text/x-python",
   "name": "python",
   "nbconvert_exporter": "python",
   "pygments_lexer": "ipython3",
   "version": "3.8.10"
  },
  "toc": {
   "base_numbering": 1,
   "nav_menu": {},
   "number_sections": true,
   "sideBar": true,
   "skip_h1_title": false,
   "title_cell": "Table of Contents",
   "title_sidebar": "Contents",
   "toc_cell": false,
   "toc_position": {},
   "toc_section_display": true,
   "toc_window_display": false
  }
 },
 "nbformat": 4,
 "nbformat_minor": 5
}
